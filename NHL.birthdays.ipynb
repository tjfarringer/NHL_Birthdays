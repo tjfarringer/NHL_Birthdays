{
 "cells": [
  {
   "cell_type": "code",
   "execution_count": 6,
   "metadata": {
    "collapsed": true
   },
   "outputs": [],
   "source": [
    "###### libs\n",
    "\n",
    "#### Import the packages\n",
    "from urllib.request import urlopen\n",
    "from bs4 import BeautifulSoup\n",
    "import pandas as pd\n",
    "import numpy as np\n",
    "import matplotlib.pyplot as plt\n",
    "import seaborn as sns\n",
    "from IPython.display import HTML\n",
    "\n",
    "sns.set_style('whitegrid')\n",
    "%matplotlib inline\n",
    "\n"
   ]
  },
  {
   "cell_type": "code",
   "execution_count": 7,
   "metadata": {
    "collapsed": false
   },
   "outputs": [],
   "source": [
    "s = \"\"\"\n",
    "<h2>Distribution of Player's birthday by Month</h2>\n",
    "\"\"\"\n",
    "\n"
   ]
  },
  {
   "cell_type": "code",
   "execution_count": 8,
   "metadata": {
    "collapsed": false
   },
   "outputs": [],
   "source": [
    "#### scrape each team page for the player's birthdays\n",
    "\n",
    "team_list = ['ducks', 'coyotes','flames', 'oilers','kings', 'sharks', 'canucks', 'blackhawks'\n",
    "                ,'avalanche', 'stars', 'wild', 'predators', 'blues', 'jets', 'bruins', 'sabres', 'redwings'\n",
    "                , 'panthers', 'canadiens', 'senators', 'lightning', 'mapleleafs', 'hurricanes', 'bluejackets'\n",
    "                ,'devils', 'islanders', 'rangers', 'flyers', 'penguins', 'capitals']\n",
    "\n",
    "#### set-up empty lists for the birthdays and birth locations\n",
    "list_of_birthdays = []\n",
    "list_of_birthlocation = []\n",
    "\n",
    "### start the loop\n",
    "i = 0\n",
    "for x in team_list:\n",
    "    optionsUrl = 'http://' + team_list[i] + '.nhl.com/club/roster.htm'\n",
    "    optionsPage = urlopen(optionsUrl)\n",
    "\n",
    "    soup = BeautifulSoup(optionsPage)\n",
    "    birthdays = soup.find_all('td',{\"class\": \"left\", \"width\": \"20%\"})\n",
    "    place_of_birth = soup.find_all('td',{\"class\": \"left\", \"width\": \"30%\"})\n",
    "\n",
    "    ### append to the birthday list\n",
    "    for x in birthdays:\n",
    "        x = x.get_text()\n",
    "        if x.find(',') != -1 or x.find('19') != -1: ### some birthdays don't have commas\n",
    "            list_of_birthdays.append(x)\n",
    "        else:\n",
    "            pass\n",
    "        \n",
    "    ### append to the birth location list\n",
    "    for y in place_of_birth:\n",
    "        y = y.get_text()\n",
    "        if y.find(',') != -1:\n",
    "            list_of_birthlocation.append(y)\n",
    "        else:\n",
    "            pass\n",
    "        \n",
    "    i += 1\n",
    "    "
   ]
  },
  {
   "cell_type": "code",
   "execution_count": 9,
   "metadata": {
    "collapsed": false
   },
   "outputs": [],
   "source": [
    "#### formatting\n",
    "dataframe_of_birthdays = pd.DataFrame(list_of_birthdays)  \n",
    "dataframe_of_birthdays.columns = ['birthday']\n",
    "dataframe_of_birthdays['birthday'] = pd.to_datetime(dataframe_of_birthdays['birthday'])\n",
    "dataframe_of_birthdays['month_of_birthday'] = dataframe_of_birthdays['birthday'].map(lambda x: x.month)\n",
    "\n",
    "#### attaching the birth location\n",
    "dataframe_of_birthdays['birth_location'] = list_of_birthlocation\n",
    "#### figure out if the person was born in canada\n",
    "dataframe_of_birthdays['born_in_canada'] = np.where(dataframe_of_birthdays['birth_location'].str[-3:]=='CAN', 1, 0)"
   ]
  },
  {
   "cell_type": "code",
   "execution_count": 12,
   "metadata": {
    "collapsed": false
   },
   "outputs": [
    {
     "data": {
      "text/html": [
       "\n",
       "<h2>Distribution of Player's birthday by Month</h2>\n"
      ],
      "text/plain": [
       "<IPython.core.display.HTML object>"
      ]
     },
     "execution_count": 12,
     "metadata": {},
     "output_type": "execute_result"
    },
    {
     "data": {
      "image/png": "[encoded data removed]",
      "text/plain": [
       "<matplotlib.figure.Figure at 0x10c7d90f0>"
      ]
     },
     "metadata": {},
     "output_type": "display_data"
    }
   ],
   "source": [
    "h = HTML(s); \n",
    "fig, (axis1) = plt.subplots(1,1,figsize=(15,5))\n",
    "sns.countplot(x='month_of_birthday', data=dataframe_of_birthdays[dataframe_of_birthdays['born_in_canada'] == 1], order = range(1,13), palette=\"husl\", ax=axis1)\n",
    "h"
   ]
  },
  {
   "cell_type": "code",
   "execution_count": null,
   "metadata": {
    "collapsed": false
   },
   "outputs": [],
   "source": []
  },
  {
   "cell_type": "code",
   "execution_count": null,
   "metadata": {
    "collapsed": false
   },
   "outputs": [],
   "source": []
  },
  {
   "cell_type": "code",
   "execution_count": null,
   "metadata": {
    "collapsed": false
   },
   "outputs": [],
   "source": []
  },
  {
   "cell_type": "code",
   "execution_count": null,
   "metadata": {
    "collapsed": false
   },
   "outputs": [],
   "source": []
  },
  {
   "cell_type": "code",
   "execution_count": null,
   "metadata": {
    "collapsed": false
   },
   "outputs": [],
   "source": []
  },
  {
   "cell_type": "code",
   "execution_count": null,
   "metadata": {
    "collapsed": false
   },
   "outputs": [],
   "source": []
  },
  {
   "cell_type": "code",
   "execution_count": null,
   "metadata": {
    "collapsed": true
   },
   "outputs": [],
   "source": []
  }
 ],
 "metadata": {
  "kernelspec": {
   "display_name": "Python 3",
   "language": "python",
   "name": "python3"
  },
  "language_info": {
   "codemirror_mode": {
    "name": "ipython",
    "version": 3
   },
   "file_extension": ".py",
   "mimetype": "text/x-python",
   "name": "python",
   "nbconvert_exporter": "python",
   "pygments_lexer": "ipython3",
   "version": "3.4.4"
  }
 },
 "nbformat": 4,
 "nbformat_minor": 0
}
